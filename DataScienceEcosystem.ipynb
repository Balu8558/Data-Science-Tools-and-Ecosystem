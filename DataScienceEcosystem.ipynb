{
 "cells": [
  {
   "cell_type": "markdown",
   "id": "f9ac55f6-21d9-439c-bbd4-4a2c07edd5a2",
   "metadata": {},
   "source": [
    "# Data Science Tools and Ecosystem"
   ]
  },
  {
   "cell_type": "markdown",
   "id": "250d22b0-6da2-4948-9eff-a9f1946222a2",
   "metadata": {},
   "source": [
    "In this notebook, Data Science Tools and Ecosystem are summarized."
   ]
  },
  {
   "cell_type": "markdown",
   "id": "5eead42d-608f-4c14-b0cd-d4f45e19686a",
   "metadata": {},
   "source": [
    "Some of the popular languages that Data Scientists use are:\n",
    "\n",
    "Python\n",
    "\n",
    "C++\n",
    "\n",
    "R\n",
    "Java\n",
    "\n",
    "SQL\n",
    "\n",
    "Scala\n",
    "\n",
    "Julia\n",
    "\n",
    "JavaScript"
   ]
  },
  {
   "cell_type": "markdown",
   "id": "198f6521-3035-406a-9045-77420345f1af",
   "metadata": {},
   "source": [
    "Some of the popular languages that Data Scientists use are:\n",
    "\n",
    "NumPy\n",
    "\n",
    "pandas\n",
    "\n",
    "Matplotlib\n",
    "\n",
    "Seaborn\n",
    "\n",
    "scikit-learn\n",
    "\n",
    "TensorFlow\n",
    "\n",
    "Keras\n",
    "\n",
    "PyTorch\n",
    "\n",
    "XGBoost\n",
    "\n",
    "LightGBM\n",
    "\n",
    "Statsmodels\n",
    "\n",
    "Plotly\n",
    "\n",
    "NLTK\n",
    "\n",
    "spaCy\n",
    "\n",
    "OpenCV"
   ]
  },
  {
   "cell_type": "markdown",
   "id": "9579ccc5-50ef-4412-9992-404e4b49bed4",
   "metadata": {},
   "source": [
    "| Data Science Tools         |\n",
    "|----------------------------|\n",
    "| Jupyter Notebook           |\n",
    "| RStudio                    |\n",
    "| Apache Zeppelin            |\n",
    "| Spyder                     |\n",
    "| VS Code                    |\n",
    "| Google Colab               |\n",
    "| KNIME                      |\n",
    "| Orange                     |\n",
    "| Atom                       |"
   ]
  },
  {
   "cell_type": "markdown",
   "id": "efdb789d-516a-4eeb-9aae-ae73f08c5e82",
   "metadata": {},
   "source": [
    "Below are a few examples of evaluating arithmetic expressions in Python"
   ]
  },
  {
   "cell_type": "code",
   "execution_count": 22,
   "id": "f458de32-cd09-4dfd-ba36-c9f79d7d3092",
   "metadata": {},
   "outputs": [
    {
     "data": {
      "text/plain": [
       "17"
      ]
     },
     "execution_count": 22,
     "metadata": {},
     "output_type": "execute_result"
    }
   ],
   "source": [
    "(3*4)+5   #This a simple arithmetic expression to mutiply then add integers."
   ]
  },
  {
   "cell_type": "code",
   "execution_count": 24,
   "id": "6fe6d2b6-ab97-4e2c-894d-49266494cc36",
   "metadata": {},
   "outputs": [
    {
     "data": {
      "text/plain": [
       "3.3333333333333335"
      ]
     },
     "execution_count": 24,
     "metadata": {},
     "output_type": "execute_result"
    }
   ],
   "source": [
    "minutes = 200\n",
    "hours = minutes/60\n",
    "hours"
   ]
  },
  {
   "cell_type": "markdown",
   "id": "6d617f88-630b-4132-8a00-12df40f4fa04",
   "metadata": {},
   "source": [
    "**Objectives:**\n",
    "\n",
    "- List popular languages for Data Science  \n",
    "- Identify commonly used libraries in Data Science  \n",
    "- Create and format Markdown cells in a Jupyter Notebook  \n",
    "- Create and render tables using Markdown  \n",
    "- Understand open-source development tools used by Data Scientists"
   ]
  },
  {
   "cell_type": "markdown",
   "id": "0b9261e2-9908-44da-b0cd-14dc616453d7",
   "metadata": {},
   "source": [
    "## Author\n",
    "\n",
    "Banoth Balaraju"
   ]
  },
  {
   "cell_type": "code",
   "execution_count": null,
   "id": "12aff9bc-39ad-421d-8b90-f36963825f04",
   "metadata": {},
   "outputs": [],
   "source": []
  }
 ],
 "metadata": {
  "kernelspec": {
   "display_name": "Python 3 (ipykernel)",
   "language": "python",
   "name": "python3"
  },
  "language_info": {
   "codemirror_mode": {
    "name": "ipython",
    "version": 3
   },
   "file_extension": ".py",
   "mimetype": "text/x-python",
   "name": "python",
   "nbconvert_exporter": "python",
   "pygments_lexer": "ipython3",
   "version": "3.12.7"
  }
 },
 "nbformat": 4,
 "nbformat_minor": 5
}
